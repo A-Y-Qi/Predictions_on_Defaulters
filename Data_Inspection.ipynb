{
 "cells": [
  {
   "cell_type": "code",
   "execution_count": 70,
   "metadata": {},
   "outputs": [],
   "source": [
    "import pandas as pd\n",
    "import numpy as np\n"
   ]
  },
  {
   "cell_type": "code",
   "execution_count": 71,
   "metadata": {},
   "outputs": [],
   "source": [
    "data = pd.read_csv(\"train.csv\")"
   ]
  },
  {
   "cell_type": "markdown",
   "metadata": {},
   "source": [
    "# Data Inspection and simple processing"
   ]
  },
  {
   "cell_type": "code",
   "execution_count": 73,
   "metadata": {},
   "outputs": [],
   "source": [
    "data2=data.rename(columns = {'Home Ownership': 'Unknown Variable', 'Employment Duration':'Home Ownership'})\n",
    "data3=data2.drop(columns=['Payment Plan','Accounts Delinquent'])\n",
    "data3[\"Initial List Status\"].replace(['w','f'],[0,1],inplace=True)\n",
    "data3[\"Application Type\"].replace(['INDIVIDUAL','JOINT'],[0,1],inplace=True)\n",
    "output=data3[\"Loan Status\"]\n",
    "dummy1=pd.get_dummies(data3[\"Home Ownership\"])\n",
    "dummy2=pd.get_dummies(data3[\"Verification Status\"])\n",
    "total_dummy=pd.concat([dummy1,dummy2],axis=1)\n",
    "\n",
    "data4=data3.drop(columns=['ID','Batch Enrolled','Loan Status', 'Home Ownership','Verification Status'])\n",
    "half_clean_data=pd.concat([data4,total_dummy,output], axis=1)\n",
    "half_clean_data.to_csv('half_cleaned.csv',index=False)\n",
    "\n",
    "\n",
    "\n",
    "\n",
    "\n",
    "\n",
    "\n",
    "\n"
   ]
  }
 ],
 "metadata": {
  "kernelspec": {
   "display_name": "Python 3.9.16 64-bit",
   "language": "python",
   "name": "python3"
  },
  "language_info": {
   "codemirror_mode": {
    "name": "ipython",
    "version": 3
   },
   "file_extension": ".py",
   "mimetype": "text/x-python",
   "name": "python",
   "nbconvert_exporter": "python",
   "pygments_lexer": "ipython3",
   "version": "3.9.16"
  },
  "orig_nbformat": 4,
  "vscode": {
   "interpreter": {
    "hash": "a665b5d41d17b532ea9890333293a1b812fa0b73c9c25c950b3cedf1bebd0438"
   }
  }
 },
 "nbformat": 4,
 "nbformat_minor": 2
}
